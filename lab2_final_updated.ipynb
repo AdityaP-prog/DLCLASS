{
 "cells": [
  {
   "cell_type": "code",
   "execution_count": 1,
   "metadata": {},
   "outputs": [],
   "source": [
    "import tensorflow as tf\n",
    "from tensorflow.keras import layers, models, optimizers\n",
    "import numpy as np\n",
    "import matplotlib.pyplot as plt"
   ]
  },
  {
   "cell_type": "code",
   "execution_count": 2,
   "metadata": {},
   "outputs": [],
   "source": [
    "def create_data():\n",
    "    X = np.random.randn(1000, 10)\n",
    "    y = np.random.randn(1000, 1)\n",
    "    return X, y"
   ]
  },
  {
   "cell_type": "code",
   "execution_count": 3,
   "metadata": {},
   "outputs": [],
   "source": [
    "def create_model():\n",
    "    model = models.Sequential([\n",
    "        layers.Dense(50, activation='relu', input_shape=(10,)),\n",
    "        layers.Dense(20, activation='relu'),\n",
    "        layers.Dense(1)\n",
    "    ])\n",
    "    return model"
   ]
  },
  {
   "cell_type": "code",
   "execution_count": 4,
   "metadata": {},
   "outputs": [],
   "source": [
    "def train_model_with_history(model, optimizer, X, y, batch_size, epochs, optimizer_name):\n",
    "    model.compile(optimizer=optimizer, loss='mean_squared_error')\n",
    "    history = []\n",
    "    for epoch in range(epochs):\n",
    "        hist = model.fit(X, y, batch_size=batch_size, epochs=1, verbose=0)\n",
    "        loss = hist.history['loss'][0]\n",
    "        history.append(loss)\n",
    "        print(f'Epoch {epoch + 1}/{epochs} - {optimizer_name} loss: {loss:.4f}')\n",
    "    return history"
   ]
  },
  {
   "cell_type": "code",
   "execution_count": 5,
   "metadata": {},
   "outputs": [],
   "source": [
    "X, y = create_data()"
   ]
  },
  {
   "cell_type": "code",
   "execution_count": 6,
   "metadata": {},
   "outputs": [
    {
     "name": "stderr",
     "output_type": "stream",
     "text": [
      "c:\\Users\\Admin\\anaconda3\\Lib\\site-packages\\keras\\src\\layers\\core\\dense.py:87: UserWarning: Do not pass an `input_shape`/`input_dim` argument to a layer. When using Sequential models, prefer using an `Input(shape)` object as the first layer in the model instead.\n",
      "  super().__init__(activity_regularizer=activity_regularizer, **kwargs)\n"
     ]
    }
   ],
   "source": [
    "model_sgd = create_model()\n",
    "model_adam = create_model()"
   ]
  },
  {
   "cell_type": "code",
   "execution_count": 7,
   "metadata": {},
   "outputs": [],
   "source": [
    "optimizer_sgd = optimizers.SGD(learning_rate=0.01)\n",
    "optimizer_adam = optimizers.Adam(learning_rate=0.001)"
   ]
  },
  {
   "cell_type": "code",
   "execution_count": 8,
   "metadata": {},
   "outputs": [],
   "source": [
    "epochs = 50\n",
    "batch_size = 32"
   ]
  },
  {
   "cell_type": "code",
   "execution_count": 9,
   "metadata": {},
   "outputs": [
    {
     "name": "stdout",
     "output_type": "stream",
     "text": [
      "\n",
      "Training with SGD optimizer: \n",
      "Epoch 1/50 - SGD loss: 1.0770\n",
      "Epoch 2/50 - SGD loss: 1.0380\n",
      "Epoch 3/50 - SGD loss: 1.0114\n",
      "Epoch 4/50 - SGD loss: 0.9954\n",
      "Epoch 5/50 - SGD loss: 0.9848\n",
      "Epoch 6/50 - SGD loss: 0.9778\n",
      "Epoch 7/50 - SGD loss: 0.9711\n",
      "Epoch 8/50 - SGD loss: 0.9652\n",
      "Epoch 9/50 - SGD loss: 0.9599\n",
      "Epoch 10/50 - SGD loss: 0.9554\n",
      "Epoch 11/50 - SGD loss: 0.9515\n",
      "Epoch 12/50 - SGD loss: 0.9459\n",
      "Epoch 13/50 - SGD loss: 0.9431\n",
      "Epoch 14/50 - SGD loss: 0.9395\n",
      "Epoch 15/50 - SGD loss: 0.9343\n",
      "Epoch 16/50 - SGD loss: 0.9309\n",
      "Epoch 17/50 - SGD loss: 0.9279\n",
      "Epoch 18/50 - SGD loss: 0.9236\n",
      "Epoch 19/50 - SGD loss: 0.9190\n",
      "Epoch 20/50 - SGD loss: 0.9168\n",
      "Epoch 21/50 - SGD loss: 0.9120\n",
      "Epoch 22/50 - SGD loss: 0.9100\n",
      "Epoch 23/50 - SGD loss: 0.9046\n",
      "Epoch 24/50 - SGD loss: 0.9025\n",
      "Epoch 25/50 - SGD loss: 0.8985\n",
      "Epoch 26/50 - SGD loss: 0.8956\n",
      "Epoch 27/50 - SGD loss: 0.8910\n",
      "Epoch 28/50 - SGD loss: 0.8873\n",
      "Epoch 29/50 - SGD loss: 0.8850\n",
      "Epoch 30/50 - SGD loss: 0.8807\n",
      "Epoch 31/50 - SGD loss: 0.8778\n",
      "Epoch 32/50 - SGD loss: 0.8751\n",
      "Epoch 33/50 - SGD loss: 0.8700\n",
      "Epoch 34/50 - SGD loss: 0.8663\n",
      "Epoch 35/50 - SGD loss: 0.8641\n",
      "Epoch 36/50 - SGD loss: 0.8617\n",
      "Epoch 37/50 - SGD loss: 0.8572\n",
      "Epoch 38/50 - SGD loss: 0.8558\n",
      "Epoch 39/50 - SGD loss: 0.8496\n",
      "Epoch 40/50 - SGD loss: 0.8489\n",
      "Epoch 41/50 - SGD loss: 0.8448\n",
      "Epoch 42/50 - SGD loss: 0.8411\n",
      "Epoch 43/50 - SGD loss: 0.8392\n",
      "Epoch 44/50 - SGD loss: 0.8351\n",
      "Epoch 45/50 - SGD loss: 0.8308\n",
      "Epoch 46/50 - SGD loss: 0.8302\n",
      "Epoch 47/50 - SGD loss: 0.8247\n",
      "Epoch 48/50 - SGD loss: 0.8240\n",
      "Epoch 49/50 - SGD loss: 0.8192\n",
      "Epoch 50/50 - SGD loss: 0.8167\n"
     ]
    }
   ],
   "source": [
    "print('\\nTraining with SGD optimizer: ')\n",
    "sgd_loss = train_model_with_history(model_sgd, optimizer_sgd, X, y, batch_size, epochs, 'SGD')"
   ]
  },
  {
   "cell_type": "code",
   "execution_count": 10,
   "metadata": {},
   "outputs": [
    {
     "name": "stdout",
     "output_type": "stream",
     "text": [
      "\n",
      "Training with Adam optimizer: \n",
      "Epoch 1/50 - Adam loss: 1.0701\n",
      "Epoch 2/50 - Adam loss: 1.0020\n",
      "Epoch 3/50 - Adam loss: 0.9777\n",
      "Epoch 4/50 - Adam loss: 0.9621\n",
      "Epoch 5/50 - Adam loss: 0.9491\n",
      "Epoch 6/50 - Adam loss: 0.9362\n",
      "Epoch 7/50 - Adam loss: 0.9286\n",
      "Epoch 8/50 - Adam loss: 0.9164\n",
      "Epoch 9/50 - Adam loss: 0.9052\n",
      "Epoch 10/50 - Adam loss: 0.8943\n",
      "Epoch 11/50 - Adam loss: 0.8849\n",
      "Epoch 12/50 - Adam loss: 0.8763\n",
      "Epoch 13/50 - Adam loss: 0.8672\n",
      "Epoch 14/50 - Adam loss: 0.8699\n",
      "Epoch 15/50 - Adam loss: 0.8477\n",
      "Epoch 16/50 - Adam loss: 0.8391\n",
      "Epoch 17/50 - Adam loss: 0.8306\n",
      "Epoch 18/50 - Adam loss: 0.8245\n",
      "Epoch 19/50 - Adam loss: 0.8157\n",
      "Epoch 20/50 - Adam loss: 0.8054\n",
      "Epoch 21/50 - Adam loss: 0.8002\n",
      "Epoch 22/50 - Adam loss: 0.7908\n",
      "Epoch 23/50 - Adam loss: 0.7814\n",
      "Epoch 24/50 - Adam loss: 0.7727\n",
      "Epoch 25/50 - Adam loss: 0.7643\n",
      "Epoch 26/50 - Adam loss: 0.7680\n",
      "Epoch 27/50 - Adam loss: 0.7549\n",
      "Epoch 28/50 - Adam loss: 0.7448\n",
      "Epoch 29/50 - Adam loss: 0.7352\n",
      "Epoch 30/50 - Adam loss: 0.7285\n",
      "Epoch 31/50 - Adam loss: 0.7220\n",
      "Epoch 32/50 - Adam loss: 0.7137\n",
      "Epoch 33/50 - Adam loss: 0.7099\n",
      "Epoch 34/50 - Adam loss: 0.6987\n",
      "Epoch 35/50 - Adam loss: 0.6942\n",
      "Epoch 36/50 - Adam loss: 0.6819\n",
      "Epoch 37/50 - Adam loss: 0.6769\n",
      "Epoch 38/50 - Adam loss: 0.6705\n",
      "Epoch 39/50 - Adam loss: 0.6639\n",
      "Epoch 40/50 - Adam loss: 0.6575\n",
      "Epoch 41/50 - Adam loss: 0.6472\n",
      "Epoch 42/50 - Adam loss: 0.6446\n",
      "Epoch 43/50 - Adam loss: 0.6428\n",
      "Epoch 44/50 - Adam loss: 0.6346\n",
      "Epoch 45/50 - Adam loss: 0.6261\n",
      "Epoch 46/50 - Adam loss: 0.6179\n",
      "Epoch 47/50 - Adam loss: 0.6142\n",
      "Epoch 48/50 - Adam loss: 0.6020\n",
      "Epoch 49/50 - Adam loss: 0.5968\n",
      "Epoch 50/50 - Adam loss: 0.5894\n"
     ]
    }
   ],
   "source": [
    "print('\\nTraining with Adam optimizer: ')\n",
    "adam_loss = train_model_with_history(model_adam, optimizer_adam, X, y, batch_size, epochs, 'Adam')"
   ]
  },
  {
   "cell_type": "code",
   "execution_count": 11,
   "metadata": {},
   "outputs": [
    {
     "data": {
      "image/png": "[encoded data removed]",
      "text/plain": [
       "<Figure size 640x480 with 1 Axes>"
      ]
     },
     "metadata": {},
     "output_type": "display_data"
    }
   ],
   "source": [
    "plt.plot(range(1, epochs + 1), sgd_loss, label='SGD', color='blue')\n",
    "plt.plot(range(1, epochs + 1), adam_loss, label='Adam', color='red')\n",
    "plt.title('SGD vs Adam Optimizer: Loss Comparison')\n",
    "plt.xlabel('Epochs')\n",
    "plt.ylabel('Loss')\n",
    "plt.legend()\n",
    "plt.grid(True)\n",
    "plt.show()"
   ]
  },
  {
   "cell_type": "code",
   "execution_count": null,
   "metadata": {},
   "outputs": [],
   "source": []
  }
 ],
 "metadata": {
  "kernelspec": {
   "display_name": "base",
   "language": "python",
   "name": "python3"
  },
  "language_info": {
   "codemirror_mode": {
    "name": "ipython",
    "version": 3
   },
   "file_extension": ".py",
   "mimetype": "text/x-python",
   "name": "python",
   "nbconvert_exporter": "python",
   "pygments_lexer": "ipython3",
   "version": "3.12.4"
  }
 },
 "nbformat": 4,
 "nbformat_minor": 2
}
